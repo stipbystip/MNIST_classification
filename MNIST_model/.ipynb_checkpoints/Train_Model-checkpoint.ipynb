{
 "cells": [
  {
   "cell_type": "code",
   "id": "initial_id",
   "metadata": {
    "collapsed": true,
    "ExecuteTime": {
     "end_time": "2024-05-28T19:48:03.146996Z",
     "start_time": "2024-05-28T19:48:00.373549Z"
    }
   },
   "source": [
    "import warnings\n",
    "\n",
    "warnings.filterwarnings('ignore')\n",
    "\n",
    "import numpy as np\n",
    "import cv2\n",
    "import seaborn as sns\n",
    "from matplotlib import pyplot as plt\n",
    "import pandas as pd\n",
    "from sklearn.model_selection import train_test_split\n",
    "\n",
    "import torch\n",
    "from torch import nn\n",
    "from torch.nn import functional as F\n",
    "from torch.utils.data import TensorDataset, DataLoader, Dataset\n",
    "\n",
    "import os\n",
    "from torchvision.datasets import MNIST\n",
    "from torchvision import transforms as tfs\n",
    "\n",
    "from datetime import datetime\n",
    "print(torch.cuda.is_available())"
   ],
   "execution_count": 1,
   "outputs": []
  },
  {
   "metadata": {
    "ExecuteTime": {
     "end_time": "2024-05-28T19:48:05.015850Z",
     "start_time": "2024-05-28T19:48:04.997852Z"
    }
   },
   "cell_type": "code",
   "source": [
    "device = torch.device('cuda' if torch.cuda.is_available() else 'cpu')\n",
    "device"
   ],
   "id": "74675da04152602c",
   "execution_count": 2,
   "outputs": []
  },
  {
   "metadata": {
    "ExecuteTime": {
     "end_time": "2024-05-28T19:48:09.115563Z",
     "start_time": "2024-05-28T19:48:06.969564Z"
    }
   },
   "cell_type": "code",
   "source": [
    "Train = pd.read_csv('data\\\\train.csv')\n",
    "Test = pd.read_csv('data\\\\test.csv')"
   ],
   "id": "1fede55d982ed2ca",
   "execution_count": 3,
   "outputs": []
  },
  {
   "metadata": {
    "ExecuteTime": {
     "end_time": "2024-05-28T19:48:10.711964Z",
     "start_time": "2024-05-28T19:48:10.418965Z"
    }
   },
   "cell_type": "code",
   "source": [
    "X = Train.drop('label', axis=1)\n",
    "X = np.array(X).astype('float')\n",
    "X = X / 255.0\n",
    "y = Train.label"
   ],
   "id": "59a0023977b84587",
   "execution_count": 4,
   "outputs": []
  },
  {
   "metadata": {
    "ExecuteTime": {
     "end_time": "2024-05-28T19:48:11.301365Z",
     "start_time": "2024-05-28T19:48:11.005375Z"
    }
   },
   "cell_type": "code",
   "source": [
    "X_train, X_val, y_train, y_val = train_test_split(X, y, test_size=0.20, random_state=42)\n",
    "\n",
    "X_train_t =  torch.tensor(X_train, dtype=torch.float32).reshape(-1,1,28,28)\n",
    "y_train_t =  torch.tensor(y_train.values, dtype=torch.long )\n",
    "X_val_t =  torch.tensor(X_val,  dtype=torch.float32).reshape(-1,1,28,28)\n",
    "y_val_t =  torch.tensor(y_val.values,  dtype=torch.long )"
   ],
   "id": "f4d24b9ee14de857",
   "execution_count": 5,
   "outputs": []
  },
  {
   "metadata": {
    "ExecuteTime": {
     "end_time": "2024-05-28T19:48:15.695036Z",
     "start_time": "2024-05-28T19:48:15.677023Z"
    }
   },
   "cell_type": "code",
   "source": [
    "class MyDataset(Dataset):\n",
    "    def __init__(self, data, labels,  transform=None):\n",
    "        self.data = data\n",
    "        self.labels = labels\n",
    "        self.transform = transform\n",
    "    \n",
    "    def __len__(self):\n",
    "        return len(self.data)\n",
    "    \n",
    "    def __getitem__(self, index):\n",
    "        img, label = self.data[index], self.labels[index]\n",
    "        \n",
    "        if self.transform:\n",
    "            img = self.transform(img)\n",
    "            \n",
    "        return img, label"
   ],
   "id": "be5f7a51c8c53e9",
   "execution_count": 6,
   "outputs": []
  },
  {
   "metadata": {
    "ExecuteTime": {
     "end_time": "2024-05-28T19:48:17.499658Z",
     "start_time": "2024-05-28T19:48:17.488845Z"
    }
   },
   "cell_type": "code",
   "source": [
    "transform = tfs.Compose([\n",
    "    tfs.RandomHorizontalFlip(p=0.8),\n",
    "    tfs.RandomRotation(20),\n",
    "    tfs.RandomAffine(0, shear=10, scale=(0.8, 1.2)),\n",
    "    tfs.RandomApply([\n",
    "        tfs.RandomPerspective(distortion_scale=0.5, p=0.5),\n",
    "        tfs.GaussianBlur(kernel_size=(3, 3), sigma=(0.1, 2))\n",
    "    ], p=1.0) \n",
    "])"
   ],
   "id": "5959f171101867d",
   "execution_count": 7,
   "outputs": []
  },
  {
   "metadata": {
    "ExecuteTime": {
     "end_time": "2024-05-28T19:48:18.832235Z",
     "start_time": "2024-05-28T19:48:18.824235Z"
    }
   },
   "cell_type": "code",
   "source": [
    "train_dataset_1 = MyDataset(X_train_t, y_train_t)\n",
    "val_dataset_1 = MyDataset(X_val_t, y_val_t)\n",
    "train_dataset_2 = MyDataset(X_train_t, y_train_t, transform=transform)\n",
    "val_dataset_2 = MyDataset(X_val_t, y_val_t, transform=transform)\n",
    "\n",
    "train_dataset = train_dataset_1 + train_dataset_2\n",
    "val_dataset = val_dataset_1 + val_dataset_2\n",
    "\n",
    "\n",
    "train_dataloader = DataLoader(train_dataset, batch_size=1024, shuffle=True)\n",
    "val_dataloader = DataLoader(val_dataset, batch_size=1024, shuffle=False)"
   ],
   "id": "9d93ab1cb0fe2b3d",
   "execution_count": 8,
   "outputs": []
  },
  {
   "metadata": {
    "ExecuteTime": {
     "end_time": "2024-05-28T19:48:55.386490Z",
     "start_time": "2024-05-28T19:48:55.380490Z"
    }
   },
   "cell_type": "code",
   "source": "from LeNet import LeNet",
   "id": "4ae4d9efe9897599",
   "execution_count": 9,
   "outputs": []
  },
  {
   "metadata": {
    "ExecuteTime": {
     "end_time": "2024-05-28T19:48:59.184123Z",
     "start_time": "2024-05-28T19:48:59.169123Z"
    }
   },
   "cell_type": "code",
   "source": [
    "model = LeNet().to(device)\n",
    "criterion = nn.CrossEntropyLoss().to(device)\n",
    "optimiser = torch.optim.Adam(model.parameters())\n",
    "\n",
    "loaders = {\"train\": train_dataloader, \"valid\": val_dataloader}"
   ],
   "id": "5f43c86f27e82367",
   "execution_count": 10,
   "outputs": []
  },
  {
   "metadata": {
    "ExecuteTime": {
     "end_time": "2024-05-28T19:49:01.870946Z",
     "start_time": "2024-05-28T19:49:01.854945Z"
    }
   },
   "cell_type": "code",
   "source": "from tqdm.notebook import tqdm",
   "id": "4260963630cc48a6",
   "execution_count": 11,
   "outputs": []
  },
  {
   "metadata": {
    "ExecuteTime": {
     "end_time": "2024-05-28T20:17:52.484479Z",
     "start_time": "2024-05-28T19:49:22.561433Z"
    }
   },
   "cell_type": "code",
   "source": [
    "max_epochs = 25\n",
    "accuracy = {'train' : [], 'valid' : []}\n",
    "train_losses = [] \n",
    "valid_losses = []\n",
    "epoch_erly_stopping = 0\n",
    "flag = False \n",
    "col_not_best = 0\n",
    "last_loss = np.Inf\n",
    "best_model = model\n",
    "start_time = datetime.now()\n",
    "\n",
    "for epoch in tqdm(range(max_epochs)):\n",
    "    \n",
    "    for k, dataloader in loaders.items():\n",
    "        epochs_correct = 0\n",
    "        epochs_all = 0\n",
    "        for x_batch, y_batch in (pbar := tqdm(dataloader)):\n",
    "            x_batch, y_batch = x_batch.to(device), y_batch.to(device)\n",
    "            if k == 'train':\n",
    "                model.train()\n",
    "                optimiser.zero_grad()\n",
    "                outp = model(x_batch)\n",
    "            else:\n",
    "                model.eval()\n",
    "                with torch.no_grad():\n",
    "                    outp = model(x_batch)\n",
    "            _, pred_class = torch.max(outp, dim=1)\n",
    "            correct = (pred_class == y_batch).sum()\n",
    "            alls = len(x_batch)\n",
    "            epochs_correct += correct.item()\n",
    "            epochs_all += alls\n",
    "            loss = criterion(outp, y_batch)\n",
    "            if k == 'train':\n",
    "                train_losses.append(loss.item())\n",
    "                loss.backward()\n",
    "                optimiser.step()\n",
    "            else:\n",
    "                valid_losses.append(loss.item())\n",
    "        if k == 'valid':\n",
    "            train_loss = np.average(train_losses)\n",
    "            valid_loss = np.average(valid_losses)\n",
    "            print(f\"[{epoch:>3}/{max_epochs:>3}] loss_train: {train_loss:.5f} | loss_valid: {valid_loss:.5f}\")\n",
    "            \n",
    "            if last_loss > valid_loss:\n",
    "                col_not_best = 0\n",
    "                epoch_erly_stopping = epoch\n",
    "                torch.save(best_model, \"checkpoint.pt\")\n",
    "                best_model = model\n",
    "                last_loss = valid_loss\n",
    "            else:\n",
    "                if col_not_best >= 20:\n",
    "                    print(\"Stop\")\n",
    "                    accuracy[k].append(epochs_correct/epochs_all)\n",
    "                    flag = True\n",
    "                    break\n",
    "                else:\n",
    "                    col_not_best += 1\n",
    "        print(f\"Loader: {k}. Accuracy: {epochs_correct/epochs_all}\")\n",
    "        accuracy[k].append(epochs_correct/epochs_all)\n",
    "    if flag:\n",
    "        break \n",
    "torch.save(best_model.state_dict(), 'best_mod.pth')\n",
    "print(f'Program execution time: {datetime.now() - start_time}')"
   ],
   "id": "4854507242dbf2",
   "execution_count": 13,
   "outputs": []
  },
  {
   "metadata": {
    "ExecuteTime": {
     "end_time": "2024-05-28T20:20:19.235046Z",
     "start_time": "2024-05-28T20:20:19.231047Z"
    }
   },
   "cell_type": "code",
   "source": "",
   "id": "49e0c756af1621f3",
   "execution_count": 13,
   "outputs": []
  },
  {
   "metadata": {},
   "cell_type": "code",
   "execution_count": null,
   "source": "",
   "id": "19fffb1a1ba84dbc",
   "outputs": []
  }
 ],
 "metadata": {
  "kernelspec": {
   "display_name": "Python 3",
   "language": "python",
   "name": "python3"
  },
  "language_info": {
   "codemirror_mode": {
    "name": "ipython",
    "version": 2
   },
   "file_extension": ".py",
   "mimetype": "text/x-python",
   "name": "python",
   "nbconvert_exporter": "python",
   "pygments_lexer": "ipython2",
   "version": "2.7.6"
  }
 },
 "nbformat": 4,
 "nbformat_minor": 5
}
